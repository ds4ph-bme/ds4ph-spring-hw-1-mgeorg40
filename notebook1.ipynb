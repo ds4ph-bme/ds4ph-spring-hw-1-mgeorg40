{
 "cells": [
  {
   "cell_type": "code",
   "execution_count": 1,
   "id": "bd0fa64f-42b5-4d60-b49b-f23b444150f6",
   "metadata": {},
   "outputs": [
    {
     "data": {
      "text/plain": [
       "8"
      ]
     },
     "execution_count": 1,
     "metadata": {},
     "output_type": "execute_result"
    }
   ],
   "source": [
    "4+4"
   ]
  },
  {
   "cell_type": "markdown",
   "id": "65a8d55b-fb41-459b-9341-aee4cf49f296",
   "metadata": {},
   "source": [
    "Text chunk"
   ]
  },
  {
   "cell_type": "code",
   "execution_count": null,
   "id": "848748ce-2a40-4457-b763-b3bc72a3939f",
   "metadata": {},
   "outputs": [],
   "source": []
  }
 ],
 "metadata": {
  "kernelspec": {
   "display_name": "Python 3 (ipykernel)",
   "language": "python",
   "name": "python3"
  },
  "language_info": {
   "codemirror_mode": {
    "name": "ipython",
    "version": 3
   },
   "file_extension": ".py",
   "mimetype": "text/x-python",
   "name": "python",
   "nbconvert_exporter": "python",
   "pygments_lexer": "ipython3",
   "version": "3.9.7"
  }
 },
 "nbformat": 4,
 "nbformat_minor": 5
}
